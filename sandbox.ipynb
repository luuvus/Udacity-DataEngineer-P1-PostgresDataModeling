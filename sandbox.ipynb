{
 "cells": [
  {
   "cell_type": "code",
   "execution_count": 2,
   "metadata": {
    "collapsed": true,
    "deletable": true,
    "editable": true
   },
   "outputs": [],
   "source": [
    "import os\n",
    "import psycopg2\n",
    "import pandas as pd"
   ]
  },
  {
   "cell_type": "markdown",
   "metadata": {},
   "source": [
    "## Postgres Database Functions"
   ]
  },
  {
   "cell_type": "code",
   "execution_count": 6,
   "metadata": {
    "collapsed": false,
    "deletable": true,
    "editable": true
   },
   "outputs": [],
   "source": [
    "try:\n",
    "    conn = psycopg2.connect(\"host='127.0.0.1' dbname='postgres' user='postgres' password='admin$1'\")\n",
    "except psycopg2.Error as e:\n",
    "    print(\"Unable to connect to database\")\n",
    "    print(e)"
   ]
  },
  {
   "cell_type": "code",
   "execution_count": 7,
   "metadata": {
    "collapsed": true,
    "deletable": true,
    "editable": true
   },
   "outputs": [],
   "source": [
    "try:\n",
    "    cur = conn.cursor()\n",
    "except psycopg2.Error as e:\n",
    "    print(\"Unable to obtain a cursor\")\n",
    "    print(e)"
   ]
  },
  {
   "cell_type": "code",
   "execution_count": 9,
   "metadata": {
    "collapsed": false,
    "deletable": true,
    "editable": true
   },
   "outputs": [],
   "source": [
    "# Set automatic commit to be true so that each action is committed without having to call conn.commit() after each command.\n",
    "conn.autocommit = True"
   ]
  },
  {
   "cell_type": "code",
   "execution_count": 10,
   "metadata": {
    "collapsed": false,
    "deletable": true,
    "editable": true
   },
   "outputs": [
    {
     "name": "stdout",
     "output_type": "stream",
     "text": [
      "Database 'testdb1' created!\n"
     ]
    }
   ],
   "source": [
    "try:\n",
    "    dbname = \"testdb1\"\n",
    "    cur.execute(\"CREATE DATABASE \" + dbname)\n",
    "    print(\"Database '\" + dbname + \"' created!\")\n",
    "except psycopg2.Error as e:\n",
    "    print(e)"
   ]
  },
  {
   "cell_type": "code",
   "execution_count": 15,
   "metadata": {
    "collapsed": false,
    "deletable": true,
    "editable": true
   },
   "outputs": [
    {
     "name": "stdout",
     "output_type": "stream",
     "text": [
      "DB connection is set to database: testdb1\n"
     ]
    }
   ],
   "source": [
    "# close connection to default database 'postgres'\n",
    "conn.close()\n",
    "\n",
    "# switch connection to new database\n",
    "try:\n",
    "    conn = psycopg2.connect(\"host='127.0.0.1' dbname='\" + dbname + \"' user='postgres' password='admin$1'\")\n",
    "    print(\"DB connection is set to database: \" + dbname)\n",
    "except psycopg2.Error as e:\n",
    "    print(e)"
   ]
  },
  {
   "cell_type": "code",
   "execution_count": 16,
   "metadata": {
    "collapsed": true,
    "deletable": true,
    "editable": true
   },
   "outputs": [],
   "source": [
    "try:\n",
    "    cur = conn.cursor()\n",
    "except psycopg2.Error as e:\n",
    "    print(e)\n",
    "    \n",
    "conn.set_session(autocommit = True)"
   ]
  },
  {
   "cell_type": "code",
   "execution_count": 17,
   "metadata": {
    "collapsed": false,
    "deletable": true,
    "editable": true
   },
   "outputs": [
    {
     "name": "stdout",
     "output_type": "stream",
     "text": [
      "songs table created!\n"
     ]
    }
   ],
   "source": [
    "try:\n",
    "    cur.execute(\"CREATE TABLE IF NOT EXISTS \\\n",
    "                    songs(\\\n",
    "                        song_title VARCHAR(250) NULL, \\\n",
    "                        artist_name VARCHAR(50) NULL, \\\n",
    "                        year SMALLINT, \\\n",
    "                        album_name VARCHAR(50), \\\n",
    "                        is_single BOOLEAN NOT NULL DEFAULT TRUE )\")\n",
    "    print(\"songs table created!\")\n",
    "except psycopg2.Error as e:\n",
    "    print(e)"
   ]
  },
  {
   "cell_type": "code",
   "execution_count": 18,
   "metadata": {
    "collapsed": false,
    "deletable": true,
    "editable": true
   },
   "outputs": [
    {
     "name": "stdout",
     "output_type": "stream",
     "text": [
      "Record inserted!\n"
     ]
    }
   ],
   "source": [
    "try:\n",
    "    cur.execute(\"INSERT INTO songs (song_title, artist_name, year, is_single, album_name)\\\n",
    "                VALUES (%s, %s, %s, %s, %s)\", \\\n",
    "                (\"Across The Universe\", \"The Beatles\", \"1970\", \"False\", \"Let It Be\"))\n",
    "    print(\"Record inserted!\")\n",
    "except psycopg2.Error as e:\n",
    "    print(e)"
   ]
  },
  {
   "cell_type": "code",
   "execution_count": 20,
   "metadata": {
    "collapsed": false,
    "deletable": true,
    "editable": true
   },
   "outputs": [
    {
     "name": "stdout",
     "output_type": "stream",
     "text": [
      "Record inserted!\n"
     ]
    }
   ],
   "source": [
    "try: \n",
    "    cur.execute(\"INSERT INTO songs (artist_name,song_title, is_single, year, album_name) \\\n",
    "                  VALUES (%s, %s, %s, %s, %s)\",\n",
    "                  (\"The Beatles\", \"Think For Yourself\", \"False\", \"1965\", \"Rubber Soul\"))\n",
    "    print(\"Record inserted!\")\n",
    "except psycopg2.Error as e: \n",
    "    print(\"Error: Inserting Rows\")\n",
    "    print (e)"
   ]
  },
  {
   "cell_type": "code",
   "execution_count": 26,
   "metadata": {
    "collapsed": false,
    "deletable": true,
    "editable": true
   },
   "outputs": [
    {
     "name": "stdout",
     "output_type": "stream",
     "text": [
      "('Across The Universe', 'The Beatles', 1970, 'Let It Be', False)\n",
      "('Think For Yourself', 'The Beatles', 1965, 'Rubber Soul', False)\n"
     ]
    }
   ],
   "source": [
    "try:\n",
    "    cur.execute(\"SELECT * FROM songs;\")\n",
    "except psycopg2.Error as e:\n",
    "    print(e)\n",
    "    \n",
    "row = cur.fetchone()\n",
    "while row:\n",
    "    print(row)\n",
    "    row = cur.fetchone()\n",
    "    "
   ]
  },
  {
   "cell_type": "markdown",
   "metadata": {
    "collapsed": true,
    "deletable": true,
    "editable": true
   },
   "source": [
    "## Directories & Files"
   ]
  },
  {
   "cell_type": "code",
   "execution_count": 6,
   "metadata": {
    "collapsed": true
   },
   "outputs": [],
   "source": [
    "def print_directory_content(directory_name):\n",
    "    for root_dir, sub_dirs, files in os.walk(directory_name):\n",
    "        for file_name in files:\n",
    "            #print('file: ' + file_name)\n",
    "            print(os.path.join(root_dir,file_name))\n",
    "        \n",
    "        for sub_dir_name in sub_dirs:\n",
    "            #print('sub_dir: ' + sub_dir_name)\n",
    "            print(os.path.join(root_dir, sub_dir_name))\n",
    "    "
   ]
  },
  {
   "cell_type": "code",
   "execution_count": 12,
   "metadata": {
    "collapsed": false
   },
   "outputs": [
    {
     "name": "stdout",
     "output_type": "stream",
     "text": [
      ".\\data\\log_data\n",
      ".\\data\\song_data\n",
      ".\\data\\log_data\\2018\n",
      ".\\data\\log_data\\2018\\11\n",
      ".\\data\\log_data\\2018\\11\\2018-11-01-events.json\n",
      ".\\data\\log_data\\2018\\11\\2018-11-02-events.json\n",
      ".\\data\\log_data\\2018\\11\\2018-11-03-events.json\n",
      ".\\data\\log_data\\2018\\11\\2018-11-04-events.json\n",
      ".\\data\\log_data\\2018\\11\\2018-11-05-events.json\n",
      ".\\data\\log_data\\2018\\11\\2018-11-06-events.json\n",
      ".\\data\\log_data\\2018\\11\\2018-11-07-events.json\n",
      ".\\data\\log_data\\2018\\11\\2018-11-08-events.json\n",
      ".\\data\\log_data\\2018\\11\\2018-11-09-events.json\n",
      ".\\data\\log_data\\2018\\11\\2018-11-10-events.json\n",
      ".\\data\\log_data\\2018\\11\\2018-11-11-events.json\n",
      ".\\data\\log_data\\2018\\11\\2018-11-12-events.json\n",
      ".\\data\\log_data\\2018\\11\\2018-11-13-events.json\n",
      ".\\data\\log_data\\2018\\11\\2018-11-14-events.json\n",
      ".\\data\\log_data\\2018\\11\\2018-11-15-events.json\n",
      ".\\data\\log_data\\2018\\11\\2018-11-16-events.json\n",
      ".\\data\\log_data\\2018\\11\\2018-11-17-events.json\n",
      ".\\data\\log_data\\2018\\11\\2018-11-18-events.json\n",
      ".\\data\\log_data\\2018\\11\\2018-11-19-events.json\n",
      ".\\data\\log_data\\2018\\11\\2018-11-20-events.json\n",
      ".\\data\\log_data\\2018\\11\\2018-11-21-events.json\n",
      ".\\data\\log_data\\2018\\11\\2018-11-22-events.json\n",
      ".\\data\\log_data\\2018\\11\\2018-11-23-events.json\n",
      ".\\data\\log_data\\2018\\11\\2018-11-24-events.json\n",
      ".\\data\\log_data\\2018\\11\\2018-11-25-events.json\n",
      ".\\data\\log_data\\2018\\11\\2018-11-26-events.json\n",
      ".\\data\\log_data\\2018\\11\\2018-11-27-events.json\n",
      ".\\data\\log_data\\2018\\11\\2018-11-28-events.json\n",
      ".\\data\\log_data\\2018\\11\\2018-11-29-events.json\n",
      ".\\data\\log_data\\2018\\11\\2018-11-30-events.json\n",
      ".\\data\\song_data\\A\n",
      ".\\data\\song_data\\A\\A\n",
      ".\\data\\song_data\\A\\B\n",
      ".\\data\\song_data\\A\\A\\A\n",
      ".\\data\\song_data\\A\\A\\B\n",
      ".\\data\\song_data\\A\\A\\C\n",
      ".\\data\\song_data\\A\\A\\A\\TRAAAAW128F429D538.json\n",
      ".\\data\\song_data\\A\\A\\A\\TRAAABD128F429CF47.json\n",
      ".\\data\\song_data\\A\\A\\A\\TRAAADZ128F9348C2E.json\n",
      ".\\data\\song_data\\A\\A\\A\\TRAAAEF128F4273421.json\n",
      ".\\data\\song_data\\A\\A\\A\\TRAAAFD128F92F423A.json\n",
      ".\\data\\song_data\\A\\A\\A\\TRAAAMO128F1481E7F.json\n",
      ".\\data\\song_data\\A\\A\\A\\TRAAAMQ128F1460CD3.json\n",
      ".\\data\\song_data\\A\\A\\A\\TRAAAPK128E0786D96.json\n",
      ".\\data\\song_data\\A\\A\\A\\TRAAARJ128F9320760.json\n",
      ".\\data\\song_data\\A\\A\\A\\TRAAAVG12903CFA543.json\n",
      ".\\data\\song_data\\A\\A\\A\\TRAAAVO128F93133D4.json\n",
      ".\\data\\song_data\\A\\A\\B\\TRAABCL128F4286650.json\n",
      ".\\data\\song_data\\A\\A\\B\\TRAABDL12903CAABBA.json\n",
      ".\\data\\song_data\\A\\A\\B\\TRAABJL12903CDCF1A.json\n",
      ".\\data\\song_data\\A\\A\\B\\TRAABJV128F1460C49.json\n",
      ".\\data\\song_data\\A\\A\\B\\TRAABLR128F423B7E3.json\n",
      ".\\data\\song_data\\A\\A\\B\\TRAABNV128F425CEE1.json\n",
      ".\\data\\song_data\\A\\A\\B\\TRAABRB128F9306DD5.json\n",
      ".\\data\\song_data\\A\\A\\B\\TRAABVM128F92CA9DC.json\n",
      ".\\data\\song_data\\A\\A\\B\\TRAABXG128F9318EBD.json\n",
      ".\\data\\song_data\\A\\A\\B\\TRAABYN12903CFD305.json\n",
      ".\\data\\song_data\\A\\A\\B\\TRAABYW128F4244559.json\n",
      ".\\data\\song_data\\A\\A\\C\\TRAACCG128F92E8A55.json\n",
      ".\\data\\song_data\\A\\A\\C\\TRAACER128F4290F96.json\n",
      ".\\data\\song_data\\A\\A\\C\\TRAACFV128F935E50B.json\n",
      ".\\data\\song_data\\A\\A\\C\\TRAACHN128F1489601.json\n",
      ".\\data\\song_data\\A\\A\\C\\TRAACIW12903CC0F6D.json\n",
      ".\\data\\song_data\\A\\A\\C\\TRAACLV128F427E123.json\n",
      ".\\data\\song_data\\A\\A\\C\\TRAACNS128F14A2DF5.json\n",
      ".\\data\\song_data\\A\\A\\C\\TRAACOW128F933E35F.json\n",
      ".\\data\\song_data\\A\\A\\C\\TRAACPE128F421C1B9.json\n",
      ".\\data\\song_data\\A\\A\\C\\TRAACQT128F9331780.json\n",
      ".\\data\\song_data\\A\\A\\C\\TRAACSL128F93462F4.json\n",
      ".\\data\\song_data\\A\\A\\C\\TRAACTB12903CAAF15.json\n",
      ".\\data\\song_data\\A\\A\\C\\TRAACVS128E078BE39.json\n",
      ".\\data\\song_data\\A\\A\\C\\TRAACZK128F4243829.json\n",
      ".\\data\\song_data\\A\\B\\A\n",
      ".\\data\\song_data\\A\\B\\B\n",
      ".\\data\\song_data\\A\\B\\C\n",
      ".\\data\\song_data\\A\\B\\A\\TRABACN128F425B784.json\n",
      ".\\data\\song_data\\A\\B\\A\\TRABAFJ128F42AF24E.json\n",
      ".\\data\\song_data\\A\\B\\A\\TRABAFP128F931E9A1.json\n",
      ".\\data\\song_data\\A\\B\\A\\TRABAIO128F42938F9.json\n",
      ".\\data\\song_data\\A\\B\\A\\TRABATO128F42627E9.json\n",
      ".\\data\\song_data\\A\\B\\A\\TRABAVQ12903CBF7E0.json\n",
      ".\\data\\song_data\\A\\B\\A\\TRABAWW128F4250A31.json\n",
      ".\\data\\song_data\\A\\B\\A\\TRABAXL128F424FC50.json\n",
      ".\\data\\song_data\\A\\B\\A\\TRABAXR128F426515F.json\n",
      ".\\data\\song_data\\A\\B\\A\\TRABAXV128F92F6AE3.json\n",
      ".\\data\\song_data\\A\\B\\A\\TRABAZH128F930419A.json\n",
      ".\\data\\song_data\\A\\B\\B\\TRABBAM128F429D223.json\n",
      ".\\data\\song_data\\A\\B\\B\\TRABBBV128F42967D7.json\n",
      ".\\data\\song_data\\A\\B\\B\\TRABBJE12903CDB442.json\n",
      ".\\data\\song_data\\A\\B\\B\\TRABBKX128F4285205.json\n",
      ".\\data\\song_data\\A\\B\\B\\TRABBLU128F93349CF.json\n",
      ".\\data\\song_data\\A\\B\\B\\TRABBNP128F932546F.json\n",
      ".\\data\\song_data\\A\\B\\B\\TRABBOP128F931B50D.json\n",
      ".\\data\\song_data\\A\\B\\B\\TRABBOR128F4286200.json\n",
      ".\\data\\song_data\\A\\B\\B\\TRABBTA128F933D304.json\n",
      ".\\data\\song_data\\A\\B\\B\\TRABBVJ128F92F7EAA.json\n",
      ".\\data\\song_data\\A\\B\\B\\TRABBXU128F92FEF48.json\n",
      ".\\data\\song_data\\A\\B\\B\\TRABBZN12903CD9297.json\n",
      ".\\data\\song_data\\A\\B\\C\\TRABCAJ12903CDFCC2.json\n",
      ".\\data\\song_data\\A\\B\\C\\TRABCEC128F426456E.json\n",
      ".\\data\\song_data\\A\\B\\C\\TRABCEI128F424C983.json\n",
      ".\\data\\song_data\\A\\B\\C\\TRABCFL128F149BB0D.json\n",
      ".\\data\\song_data\\A\\B\\C\\TRABCIX128F4265903.json\n",
      ".\\data\\song_data\\A\\B\\C\\TRABCKL128F423A778.json\n",
      ".\\data\\song_data\\A\\B\\C\\TRABCPZ128F4275C32.json\n",
      ".\\data\\song_data\\A\\B\\C\\TRABCRU128F423F449.json\n",
      ".\\data\\song_data\\A\\B\\C\\TRABCTK128F934B224.json\n",
      ".\\data\\song_data\\A\\B\\C\\TRABCUQ128E0783E2B.json\n",
      ".\\data\\song_data\\A\\B\\C\\TRABCXB128F4286BD3.json\n",
      ".\\data\\song_data\\A\\B\\C\\TRABCYE128F934CE1D.json\n"
     ]
    }
   ],
   "source": [
    "print_directory_content('.\\data')"
   ]
  },
  {
   "cell_type": "markdown",
   "metadata": {},
   "source": [
    "## Pandas & JSON"
   ]
  },
  {
   "cell_type": "code",
   "execution_count": 21,
   "metadata": {
    "collapsed": false
   },
   "outputs": [
    {
     "data": {
      "text/html": [
       "<div>\n",
       "<table border=\"1\" class=\"dataframe\">\n",
       "  <thead>\n",
       "    <tr style=\"text-align: right;\">\n",
       "      <th></th>\n",
       "      <th>artist_id</th>\n",
       "      <th>artist_latitude</th>\n",
       "      <th>artist_location</th>\n",
       "      <th>artist_longitude</th>\n",
       "      <th>artist_name</th>\n",
       "      <th>duration</th>\n",
       "      <th>num_songs</th>\n",
       "      <th>song_id</th>\n",
       "      <th>title</th>\n",
       "      <th>year</th>\n",
       "    </tr>\n",
       "  </thead>\n",
       "  <tbody>\n",
       "    <tr>\n",
       "      <th>0</th>\n",
       "      <td>AREVWGE1187B9B890A</td>\n",
       "      <td>-13.442</td>\n",
       "      <td>Noci (BA)</td>\n",
       "      <td>-41.9952</td>\n",
       "      <td>Bitter End</td>\n",
       "      <td>282.43546</td>\n",
       "      <td>1</td>\n",
       "      <td>SOFCHDR12AB01866EF</td>\n",
       "      <td>Living Hell</td>\n",
       "      <td>0</td>\n",
       "    </tr>\n",
       "  </tbody>\n",
       "</table>\n",
       "</div>"
      ],
      "text/plain": [
       "            artist_id  artist_latitude artist_location  artist_longitude  \\\n",
       "0  AREVWGE1187B9B890A          -13.442       Noci (BA)          -41.9952   \n",
       "\n",
       "  artist_name   duration  num_songs             song_id        title  year  \n",
       "0  Bitter End  282.43546          1  SOFCHDR12AB01866EF  Living Hell     0  "
      ]
     },
     "execution_count": 21,
     "metadata": {},
     "output_type": "execute_result"
    }
   ],
   "source": [
    "json_file_song = \"./data/song_data/A/B/C/TRABCYE128F934CE1D.json\"\n",
    "pfSong = pd.read_json(json_file_song,lines=True)\n",
    "pfSong.head(10)"
   ]
  },
  {
   "cell_type": "code",
   "execution_count": 23,
   "metadata": {
    "collapsed": false
   },
   "outputs": [
    {
     "name": "stdout",
     "output_type": "stream",
     "text": [
      "<class 'pandas.core.frame.DataFrame'>\n"
     ]
    }
   ],
   "source": [
    "print(type(pfSong))"
   ]
  },
  {
   "cell_type": "code",
   "execution_count": 29,
   "metadata": {
    "collapsed": false
   },
   "outputs": [
    {
     "name": "stdout",
     "output_type": "stream",
     "text": [
      "pfSong.shape: (1, 10)\n"
     ]
    }
   ],
   "source": [
    "\n",
    "print('pfSong.shape: ' + str(pfSong.shape))"
   ]
  },
  {
   "cell_type": "code",
   "execution_count": 26,
   "metadata": {
    "collapsed": false
   },
   "outputs": [
    {
     "name": "stdout",
     "output_type": "stream",
     "text": [
      "            artist_id artist_name\n",
      "0  AREVWGE1187B9B890A  Bitter End\n"
     ]
    }
   ],
   "source": [
    "print(pfSong[['artist_id','artist_name']])"
   ]
  },
  {
   "cell_type": "code",
   "execution_count": 30,
   "metadata": {
    "collapsed": false
   },
   "outputs": [
    {
     "name": "stdout",
     "output_type": "stream",
     "text": [
      "Index(['artist_id', 'artist_latitude', 'artist_location', 'artist_longitude',\n",
      "       'artist_name', 'duration', 'num_songs', 'song_id', 'title', 'year'],\n",
      "      dtype='object')\n"
     ]
    }
   ],
   "source": [
    "# data frame column names\n",
    "print(pfSong.columns)"
   ]
  },
  {
   "cell_type": "code",
   "execution_count": 32,
   "metadata": {
    "collapsed": false
   },
   "outputs": [
    {
     "name": "stdout",
     "output_type": "stream",
     "text": [
      "artist_id\n",
      "artist_latitude\n",
      "artist_location\n",
      "artist_longitude\n",
      "artist_name\n",
      "duration\n",
      "num_songs\n",
      "song_id\n",
      "title\n",
      "year\n"
     ]
    }
   ],
   "source": [
    "for colName in pfSong.columns:\n",
    "    print (colName)"
   ]
  },
  {
   "cell_type": "code",
   "execution_count": 40,
   "metadata": {
    "collapsed": false
   },
   "outputs": [
    {
     "name": "stdout",
     "output_type": "stream",
     "text": [
      "0\n",
      "artist_id           AREVWGE1187B9B890A\n",
      "artist_latitude                -13.442\n",
      "artist_location              Noci (BA)\n",
      "artist_longitude              -41.9952\n",
      "artist_name                 Bitter End\n",
      "duration                       282.435\n",
      "num_songs                            1\n",
      "song_id             SOFCHDR12AB01866EF\n",
      "title                      Living Hell\n",
      "year                                 0\n",
      "Name: 0, dtype: object\n",
      "song_id:  SOFCHDR12AB01866EF\n",
      "title:  Living Hell\n"
     ]
    }
   ],
   "source": [
    "# rows loop\n",
    "for index, row in pfSong.iterrows():\n",
    "    print(index)\n",
    "    print(row)\n",
    "    print(\"song_id: \", row.song_id)\n",
    "    print(\"title: \", row.title)\n",
    "    "
   ]
  },
  {
   "cell_type": "code",
   "execution_count": 46,
   "metadata": {
    "collapsed": false
   },
   "outputs": [
    {
     "name": "stdout",
     "output_type": "stream",
     "text": [
      "pfSongPlayLog.shape:  (15, 18)\n"
     ]
    }
   ],
   "source": [
    "json_file_song_play_log = \"./data/log_data/2018/11/2018-11-01-events.json\"\n",
    "pfSongPlayLog = pd.read_json(json_file_song_play_log, lines = True, orient = 'Columns')\n",
    "print(\"pfSongPlayLog.shape: \", pfSongPlayLog.shape)"
   ]
  },
  {
   "cell_type": "code",
   "execution_count": 47,
   "metadata": {
    "collapsed": false
   },
   "outputs": [
    {
     "data": {
      "text/plain": [
       "Index(['artist', 'auth', 'firstName', 'gender', 'itemInSession', 'lastName',\n",
       "       'length', 'level', 'location', 'method', 'page', 'registration',\n",
       "       'sessionId', 'song', 'status', 'ts', 'userAgent', 'userId'],\n",
       "      dtype='object')"
      ]
     },
     "execution_count": 47,
     "metadata": {},
     "output_type": "execute_result"
    }
   ],
   "source": [
    "# column names\n",
    "pfSongPlayLog.columns"
   ]
  },
  {
   "cell_type": "code",
   "execution_count": 48,
   "metadata": {
    "collapsed": false
   },
   "outputs": [
    {
     "name": "stdout",
     "output_type": "stream",
     "text": [
      "                        artist       auth firstName gender  itemInSession  \\\n",
      "0                         None  Logged In    Walter      M              0   \n",
      "1                         None  Logged In    Kaylee      F              0   \n",
      "2                      Des'ree  Logged In    Kaylee      F              1   \n",
      "3                         None  Logged In    Kaylee      F              2   \n",
      "4                      Mr Oizo  Logged In    Kaylee      F              3   \n",
      "5                   Tamba Trio  Logged In    Kaylee      F              4   \n",
      "6               The Mars Volta  Logged In    Kaylee      F              5   \n",
      "7            Infected Mushroom  Logged In    Kaylee      F              6   \n",
      "8   Blue October / Imogen Heap  Logged In    Kaylee      F              7   \n",
      "9                    Girl Talk  Logged In    Kaylee      F              8   \n",
      "10             Black Eyed Peas  Logged In    Sylvie      F              0   \n",
      "11                        None  Logged In      Ryan      M              0   \n",
      "12                Fall Out Boy  Logged In      Ryan      M              1   \n",
      "13                      M.I.A.  Logged In      Ryan      M              2   \n",
      "14                    Survivor  Logged In    Jayden      M              0   \n",
      "\n",
      "   lastName     length level                                      location  \\\n",
      "0      Frye        NaN  free             San Francisco-Oakland-Hayward, CA   \n",
      "1   Summers        NaN  free                   Phoenix-Mesa-Scottsdale, AZ   \n",
      "2   Summers  246.30812  free                   Phoenix-Mesa-Scottsdale, AZ   \n",
      "3   Summers        NaN  free                   Phoenix-Mesa-Scottsdale, AZ   \n",
      "4   Summers  144.03873  free                   Phoenix-Mesa-Scottsdale, AZ   \n",
      "5   Summers  177.18812  free                   Phoenix-Mesa-Scottsdale, AZ   \n",
      "6   Summers  380.42077  free                   Phoenix-Mesa-Scottsdale, AZ   \n",
      "7   Summers  440.26730  free                   Phoenix-Mesa-Scottsdale, AZ   \n",
      "8   Summers  241.39710  free                   Phoenix-Mesa-Scottsdale, AZ   \n",
      "9   Summers  160.15628  free                   Phoenix-Mesa-Scottsdale, AZ   \n",
      "10     Cruz  214.93506  free  Washington-Arlington-Alexandria, DC-VA-MD-WV   \n",
      "11    Smith        NaN  free            San Jose-Sunnyvale-Santa Clara, CA   \n",
      "12    Smith  200.72444  free            San Jose-Sunnyvale-Santa Clara, CA   \n",
      "13    Smith  233.71710  free            San Jose-Sunnyvale-Santa Clara, CA   \n",
      "14      Fox  245.36771  free                      New Orleans-Metairie, LA   \n",
      "\n",
      "   method      page   registration  sessionId  \\\n",
      "0     GET      Home  1540919166796         38   \n",
      "1     GET      Home  1540344794796        139   \n",
      "2     PUT  NextSong  1540344794796        139   \n",
      "3     GET   Upgrade  1540344794796        139   \n",
      "4     PUT  NextSong  1540344794796        139   \n",
      "5     PUT  NextSong  1540344794796        139   \n",
      "6     PUT  NextSong  1540344794796        139   \n",
      "7     PUT  NextSong  1540344794796        139   \n",
      "8     PUT  NextSong  1540344794796        139   \n",
      "9     PUT  NextSong  1540344794796        139   \n",
      "10    PUT  NextSong  1540266185796          9   \n",
      "11    GET      Home  1541016707796        169   \n",
      "12    PUT  NextSong  1541016707796        169   \n",
      "13    PUT  NextSong  1541016707796        169   \n",
      "14    PUT  NextSong  1541033612796        100   \n",
      "\n",
      "                                                song  status             ts  \\\n",
      "0                                               None     200  1541105830796   \n",
      "1                                               None     200  1541106106796   \n",
      "2                                       You Gotta Be     200  1541106106796   \n",
      "3                                               None     200  1541106132796   \n",
      "4                                            Flat 55     200  1541106352796   \n",
      "5                       Quem Quiser Encontrar O Amor     200  1541106496796   \n",
      "6                                          Eriatarka     200  1541106673796   \n",
      "7                                    Becoming Insane     200  1541107053796   \n",
      "8                                    Congratulations     200  1541107493796   \n",
      "9                                         Once again     200  1541107734796   \n",
      "10                                           Pump It     200  1541108520796   \n",
      "11                                              None     200  1541109015796   \n",
      "12                    Nobody Puts Baby In The Corner     200  1541109125796   \n",
      "13  Mango Pickle Down River (With The Wilcannia Mob)     200  1541109325796   \n",
      "14                                  Eye Of The Tiger     200  1541110994796   \n",
      "\n",
      "                                            userAgent  userId  \n",
      "0   \"Mozilla/5.0 (Macintosh; Intel Mac OS X 10_9_4...      39  \n",
      "1   \"Mozilla/5.0 (Windows NT 6.1; WOW64) AppleWebK...       8  \n",
      "2   \"Mozilla/5.0 (Windows NT 6.1; WOW64) AppleWebK...       8  \n",
      "3   \"Mozilla/5.0 (Windows NT 6.1; WOW64) AppleWebK...       8  \n",
      "4   \"Mozilla/5.0 (Windows NT 6.1; WOW64) AppleWebK...       8  \n",
      "5   \"Mozilla/5.0 (Windows NT 6.1; WOW64) AppleWebK...       8  \n",
      "6   \"Mozilla/5.0 (Windows NT 6.1; WOW64) AppleWebK...       8  \n",
      "7   \"Mozilla/5.0 (Windows NT 6.1; WOW64) AppleWebK...       8  \n",
      "8   \"Mozilla/5.0 (Windows NT 6.1; WOW64) AppleWebK...       8  \n",
      "9   \"Mozilla/5.0 (Windows NT 6.1; WOW64) AppleWebK...       8  \n",
      "10  \"Mozilla/5.0 (Macintosh; Intel Mac OS X 10_9_4...      10  \n",
      "11  \"Mozilla/5.0 (X11; Linux x86_64) AppleWebKit/5...      26  \n",
      "12  \"Mozilla/5.0 (X11; Linux x86_64) AppleWebKit/5...      26  \n",
      "13  \"Mozilla/5.0 (X11; Linux x86_64) AppleWebKit/5...      26  \n",
      "14  \"Mozilla/5.0 (Windows NT 6.3; WOW64) AppleWebK...     101  \n"
     ]
    }
   ],
   "source": [
    "# data\n",
    "print(pfSongPlayLog)"
   ]
  },
  {
   "cell_type": "code",
   "execution_count": null,
   "metadata": {
    "collapsed": true
   },
   "outputs": [],
   "source": []
  }
 ],
 "metadata": {
  "kernelspec": {
   "display_name": "Python 3",
   "language": "python",
   "name": "python3"
  },
  "language_info": {
   "codemirror_mode": {
    "name": "ipython",
    "version": 3
   },
   "file_extension": ".py",
   "mimetype": "text/x-python",
   "name": "python",
   "nbconvert_exporter": "python",
   "pygments_lexer": "ipython3",
   "version": "3.6.0"
  }
 },
 "nbformat": 4,
 "nbformat_minor": 2
}
